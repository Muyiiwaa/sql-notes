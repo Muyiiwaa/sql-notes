{
 "cells": [
  {
   "cell_type": "markdown",
   "metadata": {},
   "source": [
    "### LESSON TWO"
   ]
  },
  {
   "cell_type": "markdown",
   "metadata": {},
   "source": [
    "### Basic data structures in Python\n"
   ]
  },
  {
   "cell_type": "code",
   "execution_count": 4,
   "metadata": {},
   "outputs": [
    {
     "name": "stdout",
     "output_type": "stream",
     "text": [
      "<class 'dict'>\n"
     ]
    }
   ],
   "source": [
    "# lists, dictionarires and tuples\n",
    "\n",
    "# lists\n",
    "states = ['osun', 'oyo','ogun']\n",
    "\n",
    "# tuples\n",
    "capital = ('benin','akure','enugu')\n",
    "\n",
    "# dictioneries\n",
    "students = {'james':'lagos',\n",
    "            'john':'osun',\n",
    "            'dan':'Ogun', \n",
    "            'peter':'enugu'}\n",
    "\n",
    "print(type(students))"
   ]
  },
  {
   "cell_type": "code",
   "execution_count": 5,
   "metadata": {},
   "outputs": [
    {
     "name": "stdout",
     "output_type": "stream",
     "text": [
      "<class 'list'>\n"
     ]
    }
   ],
   "source": [
    "# lists \n",
    "\n",
    "things = ['steph', 3400, 45.3, True, ['lagos','ikeja'], False]\n",
    "\n",
    "print(type(things))\n",
    "\n"
   ]
  },
  {
   "cell_type": "code",
   "execution_count": 14,
   "metadata": {},
   "outputs": [
    {
     "name": "stdout",
     "output_type": "stream",
     "text": [
      "False\n",
      "[2, 3, 4, 5, 6]\n",
      "[13, 12, 14]\n",
      "[12, 14, 5, 787]\n"
     ]
    }
   ],
   "source": [
    "# list referencing \n",
    "\n",
    "print(things[-1])\n",
    "\n",
    "\n",
    "# list slicing \n",
    "\n",
    "nums = [2,3,4,5,6,7,8,9,13,12,14,5,787]\n",
    "\n",
    "print(nums[:5])\n",
    "print(nums[8:11])\n",
    "print(nums[-4:])\n"
   ]
  },
  {
   "cell_type": "code",
   "execution_count": 25,
   "metadata": {},
   "outputs": [
    {
     "name": "stdout",
     "output_type": "stream",
     "text": [
      "['arsenal', 'saka']\n"
     ]
    }
   ],
   "source": [
    "# multiple indexing\n",
    "\n",
    "football = [['chelsea', 'palmer', 2],['arsenal','saka',0],['utd', 'Bruno', 3],\n",
    "            ['city', 'KDB', 1]]\n",
    "\n",
    "print(football[1][:2])"
   ]
  },
  {
   "cell_type": "code",
   "execution_count": 37,
   "metadata": {},
   "outputs": [
    {
     "name": "stdout",
     "output_type": "stream",
     "text": [
      "[23, 13, 7, 4, 3, 2]\n"
     ]
    }
   ],
   "source": [
    "# list method and functions\n",
    "\n",
    "\n",
    "# append method\n",
    "\n",
    "phones = ['iphone','nokia']\n",
    "\n",
    "phones.append('samsung')\n",
    "\n",
    "# len function\n",
    "\n",
    "len(phones)\n",
    "\n",
    "\n",
    "# pop method \n",
    "\n",
    "phones.pop(0)\n",
    "\n",
    "# .remove method\n",
    "\n",
    "phones.remove('nokia')\n",
    "phones\n",
    "\n",
    "# sorted \n",
    "\n",
    "nums = [3,4,7,2,23,13]\n",
    "\n",
    "\n",
    "print(sorted(nums, reverse=True))\n",
    "\n"
   ]
  },
  {
   "cell_type": "code",
   "execution_count": 43,
   "metadata": {},
   "outputs": [
    {
     "data": {
      "text/plain": [
       "dict_values([['ikeja', 'sanwo-olu', 36], ['ibadan', 'makinde', 32], ['Osogbo', 'adeleke', 30], ['Ado-ekiti', 'bao', 16]])"
      ]
     },
     "execution_count": 43,
     "metadata": {},
     "output_type": "execute_result"
    }
   ],
   "source": [
    "# dictioneries \n",
    "\n",
    "nigeria = {\n",
    "    'lagos': ['ikeja', 'sanwo-olu',36],\n",
    "    'Oyo': ['ibadan', 'makinde', 32],\n",
    "    'Osun': ['Osogbo','adeleke',30]\n",
    "}\n",
    "\n",
    "# key referencing\n",
    "nigeria['lagos']\n",
    "\n",
    "# dictionary methods\n",
    "\n",
    "# .key\n",
    "nigeria.keys()\n",
    "\n",
    "# .values\n",
    "\n",
    "nigeria.values()\n",
    "\n",
    "# .update\n",
    "\n",
    "nigeria.update({'Ekiti': ['Ado-ekiti', 'bao', 16]})\n",
    "nigeria.values()"
   ]
  },
  {
   "cell_type": "markdown",
   "metadata": {},
   "source": [
    "### LOOPS "
   ]
  },
  {
   "cell_type": "code",
   "execution_count": 48,
   "metadata": {},
   "outputs": [
    {
     "name": "stdout",
     "output_type": "stream",
     "text": [
      "1.75\n",
      "2.5\n",
      "3.75\n",
      "4.5\n",
      "5.75\n",
      "6.5\n",
      "7.75\n",
      "8.5\n",
      "9.75\n"
     ]
    }
   ],
   "source": [
    "# add 0.5 to even numbers and 0.75 to odds between 1 and 10\n",
    "for numbers in range(1,10):\n",
    "    if numbers % 2 == 0:\n",
    "        numbers = numbers + 0.5\n",
    "    else:\n",
    "        numbers = numbers + 0.75\n",
    "    print(numbers)"
   ]
  },
  {
   "cell_type": "code",
   "execution_count": 50,
   "metadata": {},
   "outputs": [
    {
     "name": "stdout",
     "output_type": "stream",
     "text": [
      "Hi, gbemi\n",
      "Hi, john\n",
      "Hi, fola\n"
     ]
    }
   ],
   "source": [
    "# greet all the names in the list\n",
    "\n",
    "names = ['gbemi','john','fola']\n",
    "\n",
    "for name in names:\n",
    "    print(f'Hi, {name}')\n"
   ]
  },
  {
   "cell_type": "code",
   "execution_count": 51,
   "metadata": {},
   "outputs": [
    {
     "data": {
      "text/plain": [
       "[9, 15, 21, 27, 33]"
      ]
     },
     "execution_count": 51,
     "metadata": {},
     "output_type": "execute_result"
    }
   ],
   "source": [
    "# return all the odd multiple 3 between 4 and 35\n",
    "another_container = []\n",
    "for num in range(4,36):\n",
    "    if num % 2 != 0 and num % 3 ==0:\n",
    "        another_container.append(num)\n",
    "    else:\n",
    "        pass\n",
    "    \n",
    "\n",
    "\n",
    "another_container"
   ]
  },
  {
   "cell_type": "code",
   "execution_count": 54,
   "metadata": {},
   "outputs": [
    {
     "name": "stdout",
     "output_type": "stream",
     "text": [
      "11 is prime\n"
     ]
    }
   ],
   "source": [
    "# checks if a number is prime or not\n",
    "number = int(input('Enter number: '))\n",
    "for num in range(2, number):\n",
    "    if number % num == 0:\n",
    "        print(f'{number} is not prime')\n",
    "        break\n",
    "else:\n",
    "    print(f'{number} is prime')"
   ]
  },
  {
   "cell_type": "code",
   "execution_count": 2,
   "metadata": {},
   "outputs": [
    {
     "name": "stdout",
     "output_type": "stream",
     "text": [
      "27\n",
      "27\n"
     ]
    }
   ],
   "source": [
    "## ASSIGNMENT\n",
    "\n",
    "# write a program that returns the count of all even numbers less than 55. \n",
    "\n",
    "# method 1\n",
    "\n",
    "print(len(list(range(2,55,2))))\n",
    "\n",
    "# method 2 \n",
    "\n",
    "even_num = []\n",
    "\n",
    "for i in range(1, 55):\n",
    "    if i % 2 == 0:\n",
    "        even_num.append(i)\n",
    "    else:\n",
    "        pass\n",
    "\n",
    "print(len(even_num))\n"
   ]
  },
  {
   "cell_type": "markdown",
   "metadata": {},
   "source": [
    "## while loop"
   ]
  },
  {
   "cell_type": "code",
   "execution_count": 8,
   "metadata": {},
   "outputs": [
    {
     "name": "stdout",
     "output_type": "stream",
     "text": [
      "User already exist\n"
     ]
    }
   ],
   "source": [
    "# write a sign up program\n",
    "database = {}\n",
    "while True:\n",
    "    username = input('choose a username: ')\n",
    "    if username == 'stop':\n",
    "        break\n",
    "    else:\n",
    "        if username not in database.keys():\n",
    "            password = input('choose a password: ')\n",
    "            database.update({username:password})\n",
    "        else:\n",
    "            print('User already exist')"
   ]
  },
  {
   "cell_type": "code",
   "execution_count": 12,
   "metadata": {},
   "outputs": [
    {
     "name": "stdout",
     "output_type": "stream",
     "text": [
      "The lcm of 3 and 13 is 39\n"
     ]
    }
   ],
   "source": [
    "# write a program that returns the LCM of two numbers \n",
    "\n",
    "x = int(input('X: '))\n",
    "y = int(input('Y: '))\n",
    "\n",
    "if x > y:\n",
    "    higher = x\n",
    "else:\n",
    "    higher = y\n",
    "\n",
    "while True:\n",
    "    if higher % x == 0 and higher % y == 0:\n",
    "        lcm = higher\n",
    "        break\n",
    "    else:\n",
    "        higher += 1\n",
    "\n",
    "print(f'The lcm of {x} and {y} is {lcm}')"
   ]
  },
  {
   "cell_type": "markdown",
   "metadata": {},
   "source": [
    "### functions\n",
    "\n"
   ]
  },
  {
   "cell_type": "code",
   "execution_count": 13,
   "metadata": {},
   "outputs": [],
   "source": [
    "# function that greets someone\n",
    "\n",
    "def greet(name, period):\n",
    "    greetings = f'Hi {name}, good {period}'\n",
    "    print(greetings)"
   ]
  },
  {
   "cell_type": "code",
   "execution_count": 15,
   "metadata": {},
   "outputs": [
    {
     "name": "stdout",
     "output_type": "stream",
     "text": [
      "Hi Gbemi, good Morning\n"
     ]
    }
   ],
   "source": [
    "greet(name = 'Gbemi', period='Morning')"
   ]
  },
  {
   "cell_type": "code",
   "execution_count": 16,
   "metadata": {},
   "outputs": [],
   "source": [
    "# write a function that greets many people\n",
    "\n",
    "def many_greet(period):\n",
    "    names = []\n",
    "    while True:\n",
    "        name = input('Enter your name: ')\n",
    "        if name == 'stop':\n",
    "            break\n",
    "        else:\n",
    "            names.append(name)\n",
    "        \n",
    "    for name in names:\n",
    "        print(f'Hi {name} good {period}')"
   ]
  },
  {
   "cell_type": "code",
   "execution_count": 17,
   "metadata": {},
   "outputs": [
    {
     "name": "stdout",
     "output_type": "stream",
     "text": [
      "Hi ade good afternoon\n",
      "Hi fola good afternoon\n",
      "Hi tobi good afternoon\n",
      "Hi john good afternoon\n",
      "Hi master good afternoon\n"
     ]
    }
   ],
   "source": [
    "many_greet(period='afternoon')"
   ]
  },
  {
   "cell_type": "code",
   "execution_count": 22,
   "metadata": {},
   "outputs": [],
   "source": [
    "# write a program that returns all the prime numbers within a range\n",
    "\n",
    "def check_prime(number):\n",
    "    for i in range(2, number):\n",
    "        if number % i == 0:\n",
    "            return False\n",
    "    else:\n",
    "        return True\n",
    " \n",
    " \n",
    "def get_primes(lower, upper):\n",
    "    primes = []\n",
    "    for num in range(lower, upper):\n",
    "        if check_prime(num) == True:\n",
    "            primes.append(num)\n",
    "        else:\n",
    "            pass\n",
    "    return primes\n",
    "\n",
    "    "
   ]
  },
  {
   "cell_type": "code",
   "execution_count": 23,
   "metadata": {},
   "outputs": [
    {
     "data": {
      "text/plain": [
       "[11, 13, 17, 19]"
      ]
     },
     "execution_count": 23,
     "metadata": {},
     "output_type": "execute_result"
    }
   ],
   "source": [
    "get_primes(10, 20)"
   ]
  },
  {
   "cell_type": "code",
   "execution_count": 24,
   "metadata": {},
   "outputs": [],
   "source": [
    "# function that returns the product of two numbers\n",
    "\n",
    "def product(x, y):\n",
    "    samuel = x * y\n",
    "    return samuel"
   ]
  },
  {
   "cell_type": "code",
   "execution_count": 25,
   "metadata": {},
   "outputs": [
    {
     "data": {
      "text/plain": [
       "10"
      ]
     },
     "execution_count": 25,
     "metadata": {},
     "output_type": "execute_result"
    }
   ],
   "source": [
    "product(x = 2, y = 5)"
   ]
  },
  {
   "cell_type": "code",
   "execution_count": 27,
   "metadata": {},
   "outputs": [
    {
     "data": {
      "text/plain": [
       "7.3"
      ]
     },
     "execution_count": 27,
     "metadata": {},
     "output_type": "execute_result"
    }
   ],
   "source": [
    "# write a program that returns the average of  any collection numbers\n",
    "\n",
    "def get_average(*args):\n",
    "    avg = sum(args)/len(args)\n",
    "    return avg\n",
    "\n",
    "get_average(2,3,4,5,6,7,5,8,10,23)"
   ]
  },
  {
   "cell_type": "code",
   "execution_count": 28,
   "metadata": {},
   "outputs": [
    {
     "data": {
      "text/plain": [
       "3.0"
      ]
     },
     "execution_count": 28,
     "metadata": {},
     "output_type": "execute_result"
    }
   ],
   "source": [
    "def get_even_avg(*args):\n",
    "    even = [x for x in args if x % 2 == 0] # list comprehension\n",
    "    avg = sum(even)/len(even)\n",
    "    return avg\n",
    "\n",
    "get_even_avg(2,3,7,1,9,3,5,4)"
   ]
  },
  {
   "cell_type": "code",
   "execution_count": 33,
   "metadata": {},
   "outputs": [
    {
     "data": {
      "text/plain": [
       "[11, 13, 17, 19]"
      ]
     },
     "execution_count": 33,
     "metadata": {},
     "output_type": "execute_result"
    }
   ],
   "source": [
    "def get_primes2(lower, upper):\n",
    "    primes = [x for x in range(lower, upper) if check_prime(x) == True] # list comprehension\n",
    "    return primes\n",
    "\n",
    "get_primes2(10, 20)"
   ]
  },
  {
   "cell_type": "code",
   "execution_count": 34,
   "metadata": {},
   "outputs": [
    {
     "data": {
      "text/plain": [
       "[2, 4, 6, 8]"
      ]
     },
     "execution_count": 34,
     "metadata": {},
     "output_type": "execute_result"
    }
   ],
   "source": [
    "# extract even nos with list comprehension\n",
    "nums = [1,2,3,4,5,6,7,8,9]\n",
    "\n",
    "[x for x in nums if x%2 == 0]\n"
   ]
  },
  {
   "cell_type": "code",
   "execution_count": 35,
   "metadata": {},
   "outputs": [
    {
     "data": {
      "text/plain": [
       "['odd', 'even', 'odd', 'even', 'odd', 'even', 'odd', 'even', 'odd']"
      ]
     },
     "execution_count": 35,
     "metadata": {},
     "output_type": "execute_result"
    }
   ],
   "source": [
    "['even' if x % 2 == 0 else 'odd' for x in nums]"
   ]
  },
  {
   "cell_type": "code",
   "execution_count": 36,
   "metadata": {},
   "outputs": [
    {
     "data": {
      "text/plain": [
       "12"
      ]
     },
     "execution_count": 36,
     "metadata": {},
     "output_type": "execute_result"
    }
   ],
   "source": [
    "# lambda \n",
    "\n",
    "product = lambda x,y:x*y\n",
    "\n",
    "product(3,4)"
   ]
  },
  {
   "cell_type": "code",
   "execution_count": null,
   "metadata": {},
   "outputs": [],
   "source": []
  }
 ],
 "metadata": {
  "kernelspec": {
   "display_name": "base",
   "language": "python",
   "name": "python3"
  },
  "language_info": {
   "codemirror_mode": {
    "name": "ipython",
    "version": 3
   },
   "file_extension": ".py",
   "mimetype": "text/x-python",
   "name": "python",
   "nbconvert_exporter": "python",
   "pygments_lexer": "ipython3",
   "version": "3.11.4"
  }
 },
 "nbformat": 4,
 "nbformat_minor": 2
}
